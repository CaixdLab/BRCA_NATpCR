{
 "cells": [
  {
   "cell_type": "code",
   "execution_count": 7,
   "id": "ce8fc743-ea03-4b0d-88f8-bc98deb4c080",
   "metadata": {},
   "outputs": [],
   "source": [
    "import pandas as pd\n",
    "import numpy as np\n",
    "import matplotlib.pyplot as plt"
   ]
  },
  {
   "cell_type": "code",
   "execution_count": 54,
   "id": "45b9bc2a-3312-4104-9459-2e56158085df",
   "metadata": {
    "scrolled": true
   },
   "outputs": [],
   "source": [
    "arm_short_name = ['Ctr', 'AMG386', 'N', 'Ganitumab', 'MK2206', 'Ganetespib', 'VC', 'Pembro', 'TDM1/P', 'Pertuzumab']\n",
    "#arm_short_name = ['Pembro']\n",
    "\n",
    "directory_out = 'res_xgb35_analysis/'\n",
    "for idx, a in enumerate(arm_short_name):\n",
    "    if a == 'TDM1/P':\n",
    "        b = 'TDM1P'\n",
    "    else:\n",
    "        b = a\n",
    "\n",
    "    file_name = 'res_xgb35/results_xgb35_hh1norm1_' + b \n",
    "    franks = pd.read_csv(file_name + '_frank.csv')\n",
    "    franks.set_index('Unnamed: 0', inplace = True)\n",
    "\n",
    "    # remove outliers and compute ranks\n",
    "    for g in franks.index.values:\n",
    "        ranks = franks.loc[g].iloc[:20]\n",
    "        q1 = ranks.quantile(0.25)\n",
    "        q3 = ranks.quantile(0.75)\n",
    "        iqr = q3 - q1 \n",
    "        upper = q3 + 1.5*iqr\n",
    "        upper_outliers = np.where(ranks > upper)[0]\n",
    "        if upper_outliers.shape[0] > 0:\n",
    "            normal_samples = [str(i) for i in list(range(20)) if i not in upper_outliers]\n",
    "            r = ranks[normal_samples]\n",
    "            temp=np.round([np.mean(r.values), np.std(r.values)],3)\n",
    "            franks.loc[g,['rank', 'std']] = temp\n",
    "        else:\n",
    "            temp = np.round([np.mean(ranks.values), np.std(ranks.values)])\n",
    "            franks.loc[g,['rank', 'std']] = temp\n",
    "            \n",
    "    franks.sort_values(by = 'rank', ascending = True, inplace = True)\n",
    "    franks_q = franks.copy()    \n",
    "    franks_q100 = franks_q.iloc[:100,:]\n",
    "    if idx == 0:\n",
    "        franks_q100_all = franks_q100.index.values.reshape(-1,1)\n",
    "    else:\n",
    "        franks_q100_all = np.hstack([franks_q100_all, franks_q100.index.values.reshape(-1,1)])\n",
    "    \n",
    "    #franks_q.to_csv(directory_out + 'franks_q_' + b + '.csv')\n",
    "    franks_q100.to_csv(directory_out + 'franks_q100_' + b + '.csv')\n"
   ]
  },
  {
   "cell_type": "code",
   "execution_count": 58,
   "id": "a60c5afb-22df-460a-bbea-6d0177827d5c",
   "metadata": {},
   "outputs": [],
   "source": [
    "df_franks_q100_all = pd.DataFrame(franks_q100_all, columns = arm_short_name)\n",
    "df_franks_q100_all.to_csv(directory_out +'franks_top100genes_all.csv',index=False)"
   ]
  },
  {
   "cell_type": "code",
   "execution_count": null,
   "id": "4e475fa3-e50c-4e91-923f-00654ea181ae",
   "metadata": {},
   "outputs": [],
   "source": [
    "#Get all protein coding genes excluding the top 100 genes\n",
    "#This set will be used as background set for GO enrichement analysis\n",
    "gene_table = pd.read_csv('ncbi_human_genes_protein_coding.csv')\n",
    "gene_table.set_index('Symbol', inplace = True)\n",
    "genes_all = gene_table.index.values\n",
    "for a in arm_short_name:\n",
    "    if a == 'TDM1/P':\n",
    "        b = 'TDM1P'\n",
    "    else:\n",
    "        b = a\n",
    "        \n",
    "    file_name = directory_out + 'franks_q100_' + b + '.csv' \n",
    "    temp = pd.read_csv(file_name)\n",
    "    g100 = temp['Unnamed: 0'].values\n",
    "    g_not100 = [g for g in genes_all if g not in g100]\n",
    "    print(len(g_not100))\n",
    "    \n",
    "    file_name = directory_out + 'franks_not100_' + b + '.csv' \n",
    "    with open(file_name, 'w') as file:\n",
    "        for g in g_not100:\n",
    "            file.write(g + '\\n')"
   ]
  },
  {
   "cell_type": "code",
   "execution_count": 36,
   "id": "0c4a460a-9265-40c2-8690-db39eb67a133",
   "metadata": {},
   "outputs": [
    {
     "data": {
      "text/plain": [
       "(20621,)"
      ]
     },
     "execution_count": 36,
     "metadata": {},
     "output_type": "execute_result"
    }
   ],
   "source": [
    "genes_all.shape"
   ]
  },
  {
   "cell_type": "code",
   "execution_count": null,
   "id": "3d673f90-ca38-4a08-820e-3e69c2de9959",
   "metadata": {},
   "outputs": [],
   "source": []
  }
 ],
 "metadata": {
  "kernelspec": {
   "display_name": "env24",
   "language": "python",
   "name": "env24"
  },
  "language_info": {
   "codemirror_mode": {
    "name": "ipython",
    "version": 3
   },
   "file_extension": ".py",
   "mimetype": "text/x-python",
   "name": "python",
   "nbconvert_exporter": "python",
   "pygments_lexer": "ipython3",
   "version": "3.11.9"
  }
 },
 "nbformat": 4,
 "nbformat_minor": 5
}
